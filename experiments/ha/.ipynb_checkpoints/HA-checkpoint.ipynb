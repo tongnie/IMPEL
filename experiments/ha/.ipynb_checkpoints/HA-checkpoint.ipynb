{
 "cells": [
  {
   "cell_type": "code",
   "execution_count": 2,
   "metadata": {},
   "outputs": [],
   "source": [
    "import numpy as np\n",
    "# import importlib\n",
    "# import src.utils.metrics as mc\n",
    "# importlib.reload(mc)\n",
    "import torch\n",
    "import pandas as pd"
   ]
  },
  {
   "cell_type": "code",
   "execution_count": 8,
   "metadata": {},
   "outputs": [],
   "source": [
    "dataset_name = 'Delivery_SH'\n",
    "base_path = '../../data/{}/'.format(dataset_name)\n",
    "\n",
    "seq_len = 24\n",
    "horizon = 24\n",
    "in_dim = 1\n",
    "out_dim = 1\n",
    "nan_value = -1\n",
    "result_path = './results/' + dataset_name + '/{}_{}_{}_{}'.format(seq_len, horizon, in_dim, out_dim)\n",
    "model_name = 'ha'"
   ]
  },
  {
   "cell_type": "code",
   "execution_count": 73,
   "metadata": {},
   "outputs": [
    {
     "name": "stdout",
     "output_type": "stream",
     "text": [
      "(3387, 24, 30, 1)\n",
      "(847, 24, 30, 1)\n"
     ]
    }
   ],
   "source": [
    "train_x = np.load(base_path + 'train.npz')['x'][..., :in_dim]\n",
    "val_x = np.load(base_path + 'val.npz')['x'][..., :in_dim]\n",
    "test_y = np.load(base_path + 'test.npz')['y'][..., :out_dim]\n",
    "\n",
    "train_ha = np.concatenate([train_x,val_x])\n",
    "test_ha = test_y\n",
    "for i in [train_ha, test_ha]:\n",
    "    print(i.shape)"
   ]
  },
  {
   "cell_type": "code",
   "execution_count": 74,
   "metadata": {},
   "outputs": [
    {
     "name": "stdout",
     "output_type": "stream",
     "text": [
      "(3387, 24)\n",
      "(847, 24)\n"
     ]
    }
   ],
   "source": [
    "train_x_hour = np.load(base_path + 'train.npz')['x_hour']\n",
    "val_x_hour = np.load(base_path + 'val.npz')['x_hour']\n",
    "test_y_hour = np.load(base_path + 'test.npz')['y_hour']\n",
    "\n",
    "train_ha_hour = np.concatenate([train_x_hour,val_x_hour])\n",
    "test_ha_hour = test_y_hour\n",
    "for i in [train_ha_hour, test_ha_hour]:\n",
    "    print(i.shape)"
   ]
  },
  {
   "cell_type": "code",
   "execution_count": 75,
   "metadata": {},
   "outputs": [],
   "source": [
    "n_sample, n_time, n_node, _ = train_ha.shape\n",
    "ave_ha = np.zeros((24,n_node))\n",
    "train_ha = train_ha.reshape(n_sample*n_time, n_node)\n",
    "train_ha_hour = train_ha_hour.reshape(n_sample*n_time)\n",
    "for h in range(24):\n",
    "    mask = [train_ha_hour == h]\n",
    "    mean_train = np.mean(train_ha[train_ha_hour == h], 0)\n",
    "    ave_ha[h] = mean_train"
   ]
  },
  {
   "cell_type": "code",
   "execution_count": 76,
   "metadata": {},
   "outputs": [],
   "source": [
    "pred_y = np.zeros_like(test_ha)\n",
    "pred_y = pred_y.reshape(-1, n_node)\n",
    "test_ha_hour = test_ha_hour.reshape(-1)\n",
    "for h in range(24):\n",
    "    pred_y[test_ha_hour == h] = ave_ha[h]\n",
    "pred_y=pred_y.reshape(test_ha.shape)"
   ]
  },
  {
   "cell_type": "code",
   "execution_count": 77,
   "metadata": {},
   "outputs": [
    {
     "name": "stdout",
     "output_type": "stream",
     "text": [
      "(847, 24, 30, 1)\n",
      "(847, 24, 30, 1)\n"
     ]
    }
   ],
   "source": [
    "print(pred_y.shape)\n",
    "print(test_ha.shape)"
   ]
  }
 ],
 "metadata": {
  "kernelspec": {
   "display_name": "Python 3 (ipykernel)",
   "language": "python",
   "name": "python3"
  },
  "language_info": {
   "codemirror_mode": {
    "name": "ipython",
    "version": 3
   },
   "file_extension": ".py",
   "mimetype": "text/x-python",
   "name": "python",
   "nbconvert_exporter": "python",
   "pygments_lexer": "ipython3",
   "version": "3.9.15"
  },
  "toc": {
   "base_numbering": 1,
   "nav_menu": {},
   "number_sections": true,
   "sideBar": true,
   "skip_h1_title": false,
   "title_cell": "Table of Contents",
   "title_sidebar": "Contents",
   "toc_cell": false,
   "toc_position": {},
   "toc_section_display": true,
   "toc_window_display": false
  },
  "varInspector": {
   "cols": {
    "lenName": 16,
    "lenType": 16,
    "lenVar": 40
   },
   "kernels_config": {
    "python": {
     "delete_cmd_postfix": "",
     "delete_cmd_prefix": "del ",
     "library": "var_list.py",
     "varRefreshCmd": "print(var_dic_list())"
    },
    "r": {
     "delete_cmd_postfix": ") ",
     "delete_cmd_prefix": "rm(",
     "library": "var_list.r",
     "varRefreshCmd": "cat(var_dic_list()) "
    }
   },
   "types_to_exclude": [
    "module",
    "function",
    "builtin_function_or_method",
    "instance",
    "_Feature"
   ],
   "window_display": false
  },
  "vscode": {
   "interpreter": {
    "hash": "d9d60c2b72fb7cc74212d2b02e1b53fcfee64dfab5b464b85f28fe39700f171a"
   }
  }
 },
 "nbformat": 4,
 "nbformat_minor": 2
}
